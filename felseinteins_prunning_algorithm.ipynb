{
  "nbformat": 4,
  "nbformat_minor": 0,
  "metadata": {
    "colab": {
      "name": "felseinteins-prunning-algorithm.ipynb",
      "provenance": [],
      "collapsed_sections": [],
      "authorship_tag": "ABX9TyNCdihX1nWYdJUIBug+xAbf",
      "include_colab_link": true
    },
    "kernelspec": {
      "name": "python3",
      "display_name": "Python 3"
    }
  },
  "cells": [
    {
      "cell_type": "markdown",
      "metadata": {
        "id": "view-in-github",
        "colab_type": "text"
      },
      "source": [
        "<a href=\"https://colab.research.google.com/github/KMR-86/All-My-random-codes/blob/master/felseinteins_prunning_algorithm.ipynb\" target=\"_parent\"><img src=\"https://colab.research.google.com/assets/colab-badge.svg\" alt=\"Open In Colab\"/></a>"
      ]
    },
    {
      "cell_type": "code",
      "metadata": {
        "id": "rUP2wt9Px1e0",
        "colab_type": "code",
        "colab": {
          "base_uri": "https://localhost:8080/",
          "height": 87
        },
        "outputId": "8aee794b-38b6-4ca6-c968-8db02a12ca42"
      },
      "source": [
        "import numpy as np\n",
        "from scipy import linalg\n",
        "\n",
        "Q=np.array([[-1.916,0.541,0.787,0.588],[0.148,-1.069,0.415,0.506],[0.286,0.170,-0.591,0.135],[0.525,0.236,0.594,-1.355]])\n",
        "print(Q)\n",
        "\n"
      ],
      "execution_count": 18,
      "outputs": [
        {
          "output_type": "stream",
          "text": [
            "[[-1.916  0.541  0.787  0.588]\n",
            " [ 0.148 -1.069  0.415  0.506]\n",
            " [ 0.286  0.17  -0.591  0.135]\n",
            " [ 0.525  0.236  0.594 -1.355]]\n"
          ],
          "name": "stdout"
        }
      ]
    },
    {
      "cell_type": "markdown",
      "metadata": {
        "id": "IiZoFZ4Az0_f",
        "colab_type": "text"
      },
      "source": [
        "This code will give 0.0 for all the rows if the array's format is like a continuous time markov chain"
      ]
    },
    {
      "cell_type": "code",
      "metadata": {
        "id": "8PDJnDrmzwVf",
        "colab_type": "code",
        "colab": {
          "base_uri": "https://localhost:8080/",
          "height": 52
        },
        "outputId": "81162b3c-9e3c-40cb-9348-5a308011e82d"
      },
      "source": [
        "def test_if_ctmc(Q):\n",
        "  for i in range(0,Q.shape[0]):\n",
        "    if np.sum(Q[i])!=0.0:\n",
        "      print(i+\" no row has a problem\")\n",
        "      return -1;\n",
        "  \n",
        "  print(\"ok\\n\")\n",
        "\n",
        "test_if_ctmc(Q)"
      ],
      "execution_count": 19,
      "outputs": [
        {
          "output_type": "stream",
          "text": [
            "ok\n",
            "\n"
          ],
          "name": "stdout"
        }
      ]
    },
    {
      "cell_type": "code",
      "metadata": {
        "id": "Jb7wiMgM0C9G",
        "colab_type": "code",
        "colab": {
          "base_uri": "https://localhost:8080/",
          "height": 35
        },
        "outputId": "72511dd2-0a4a-4f84-d14f-3017e5546f9a"
      },
      "source": [
        "def get_transition_probability_p(Q,t,i,j):\n",
        "  return linalg.expm((Q*t))[i][j]\n",
        "\n",
        "print(get_transition_probability_p(Q,100,1,1))"
      ],
      "execution_count": 20,
      "outputs": [
        {
          "output_type": "stream",
          "text": [
            "0.18794332469009922\n"
          ],
          "name": "stdout"
        }
      ]
    },
    {
      "cell_type": "code",
      "metadata": {
        "id": "HA5tQp08xgte",
        "colab_type": "code",
        "colab": {
          "base_uri": "https://localhost:8080/",
          "height": 35
        },
        "outputId": "aaf7f436-094b-49f9-de51-9fb550f4c25c"
      },
      "source": [
        "Cl=(0,0,1,0)\n",
        "Cr=(0,0,0,1)\n",
        "Vl=0.15\n",
        "Vr=0.15\n",
        "ans=[]\n",
        "for i in range(0,Q.shape[0]):\n",
        "  suml=0\n",
        "  sumr=0\n",
        "  for j in range(0,Q.shape[1]):\n",
        "    suml=suml+get_transition_probability_p(Q,Vl,i,j)*Cl[j]\n",
        "    sumr=sumr+get_transition_probability_p(Q,Vr,i,j)*Cr[j]\n",
        "  \n",
        "  ans.append(suml*sumr)\n",
        "\n",
        "print(ans)\n"
      ],
      "execution_count": 21,
      "outputs": [
        {
          "output_type": "stream",
          "text": [
            "[0.007548388682161947, 0.003839147281928645, 0.018382948223364313, 0.06742248848200644]\n"
          ],
          "name": "stdout"
        }
      ]
    },
    {
      "cell_type": "code",
      "metadata": {
        "id": "iHKk8gPOymUH",
        "colab_type": "code",
        "colab": {
          "base_uri": "https://localhost:8080/",
          "height": 35
        },
        "outputId": "a034b98b-5d49-4bb3-fc02-1a1500e0536d"
      },
      "source": [
        "def calculate_ML_from_child(left_child,right_child,left_length,right_length,Q):\n",
        "  ans=[]\n",
        "  for i in range(0,Q.shape[0]):\n",
        "    sum_l=0\n",
        "    sum_r=0\n",
        "    for j in range(0,Q.shape[1]):\n",
        "      sum_l=sum_l+get_transition_probability_p(Q,left_length,i,j)*left_child[j]\n",
        "      sum_r=sum_r+get_transition_probability_p(Q,right_length,i,j)*right_child[j]\n",
        "\n",
        "    ans.append(sum_l*sum_r)\n",
        "  \n",
        "  return ans\n",
        "\n",
        "Cl=(0,0,1,0)\n",
        "Cr=(0,0,0,1)\n",
        "print(calculate_ML_from_child(Cl,Cr,0.15,0.15,Q))\n",
        "\n",
        "    "
      ],
      "execution_count": 22,
      "outputs": [
        {
          "output_type": "stream",
          "text": [
            "[0.007548388682161947, 0.003839147281928645, 0.018382948223364313, 0.06742248848200644]\n"
          ],
          "name": "stdout"
        }
      ]
    }
  ]
}