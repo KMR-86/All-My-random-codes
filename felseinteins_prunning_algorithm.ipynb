{
  "nbformat": 4,
  "nbformat_minor": 0,
  "metadata": {
    "colab": {
      "name": "felseinteins-prunning-algorithm.ipynb",
      "provenance": [],
      "collapsed_sections": [],
      "authorship_tag": "ABX9TyOYfa4R5aZmNLTjNx63n+Vj",
      "include_colab_link": true
    },
    "kernelspec": {
      "name": "python3",
      "display_name": "Python 3"
    }
  },
  "cells": [
    {
      "cell_type": "markdown",
      "metadata": {
        "id": "view-in-github",
        "colab_type": "text"
      },
      "source": [
        "<a href=\"https://colab.research.google.com/github/KMR-86/All-My-random-codes/blob/master/felseinteins_prunning_algorithm.ipynb\" target=\"_parent\"><img src=\"https://colab.research.google.com/assets/colab-badge.svg\" alt=\"Open In Colab\"/></a>"
      ]
    },
    {
      "cell_type": "code",
      "metadata": {
        "id": "rUP2wt9Px1e0",
        "colab_type": "code",
        "colab": {
          "base_uri": "https://localhost:8080/",
          "height": 87
        },
        "outputId": "a021ec61-a1d1-4bf0-d2e6-68887a2fc77b"
      },
      "source": [
        "import numpy as np\n",
        "from scipy import linalg\n",
        "\n",
        "Q=np.array([[-1.916,0.541,0.787,0.588],[0.148,-1.069,0.415,0.506],[0.286,0.170,-0.591,0.135],[0.525,0.236,0.594,-1.355]])\n",
        "print(Q)\n",
        "\n"
      ],
      "execution_count": 8,
      "outputs": [
        {
          "output_type": "stream",
          "text": [
            "[[-1.916  0.541  0.787  0.588]\n",
            " [ 0.148 -1.069  0.415  0.506]\n",
            " [ 0.286  0.17  -0.591  0.135]\n",
            " [ 0.525  0.236  0.594 -1.355]]\n"
          ],
          "name": "stdout"
        }
      ]
    },
    {
      "cell_type": "markdown",
      "metadata": {
        "id": "IiZoFZ4Az0_f",
        "colab_type": "text"
      },
      "source": [
        "This code will give 0.0 for all the rows if the array's format is like a continuous time markov chain"
      ]
    },
    {
      "cell_type": "code",
      "metadata": {
        "id": "8PDJnDrmzwVf",
        "colab_type": "code",
        "colab": {
          "base_uri": "https://localhost:8080/",
          "height": 52
        },
        "outputId": "a0b117c9-ec2d-4d77-f895-4b359c51763c"
      },
      "source": [
        "def test_if_ctmc(Q):\n",
        "  for i in range(0,Q.shape[0]):\n",
        "    if np.sum(Q[i])!=0.0:\n",
        "      print(i+\" no row has a problem\")\n",
        "      return -1;\n",
        "  \n",
        "  print(\"ok\\n\")\n",
        "\n",
        "test_if_ctmc(Q)"
      ],
      "execution_count": 12,
      "outputs": [
        {
          "output_type": "stream",
          "text": [
            "ok\n",
            "\n"
          ],
          "name": "stdout"
        }
      ]
    },
    {
      "cell_type": "code",
      "metadata": {
        "id": "Jb7wiMgM0C9G",
        "colab_type": "code",
        "colab": {
          "base_uri": "https://localhost:8080/",
          "height": 87
        },
        "outputId": "53ade591-1e66-479d-bd2a-c1fa29f498fd"
      },
      "source": [
        "def get_transition_probability_p(t):\n",
        "  return linalg.expm((Q*t))\n",
        "\n",
        "print(get_transition_probability_p(100))"
      ],
      "execution_count": 14,
      "outputs": [
        {
          "output_type": "stream",
          "text": [
            "[[0.13755573 0.18794332 0.49527966 0.17922129]\n",
            " [0.13755573 0.18794332 0.49527966 0.17922129]\n",
            " [0.13755573 0.18794332 0.49527966 0.17922129]\n",
            " [0.13755573 0.18794332 0.49527966 0.17922129]]\n"
          ],
          "name": "stdout"
        }
      ]
    }
  ]
}